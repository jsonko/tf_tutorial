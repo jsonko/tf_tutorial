{
 "cells": [
  {
   "cell_type": "markdown",
   "metadata": {},
   "source": [
    "# Text classification with movie reviews"
   ]
  },
  {
   "cell_type": "markdown",
   "metadata": {},
   "source": [
    "이 가이드에서는 리뷰의 Text를 사용하여 영화의 리뷰가 Positive 인지 Negative 인지 분류할 것이다. 이는 binary, two-class classification 의 한 예제이다. "
   ]
  },
  {
   "cell_type": "markdown",
   "metadata": {},
   "source": [
    "IMDB dataset을 사용할 것이고, 50,000의 영화 리뷰로 구성되어 있으며, 25,000 개의 training에, 25,000개는 testing 에 사용될 것이다. "
   ]
  },
  {
   "cell_type": "code",
   "execution_count": 1,
   "metadata": {},
   "outputs": [
    {
     "name": "stdout",
     "output_type": "stream",
     "text": [
      "1.10.0\n"
     ]
    }
   ],
   "source": [
    "import tensorflow as tf\n",
    "from tensorflow import keras\n",
    "\n",
    "import numpy as np\n",
    "\n",
    "print(tf.__version__)"
   ]
  },
  {
   "cell_type": "markdown",
   "metadata": {},
   "source": [
    "## Download the IMDB dataset\n",
    "\n",
    "IMDB dataset 은 Tensorflow에 패키지화되어 있으며, 리뷰는 Integer의 Sequence로 변환되어 있다. 각 Integer는 Dictionary안의 특정 단어로 표현된다. "
   ]
  },
  {
   "cell_type": "code",
   "execution_count": 2,
   "metadata": {},
   "outputs": [
    {
     "name": "stdout",
     "output_type": "stream",
     "text": [
      "Downloading data from https://storage.googleapis.com/tensorflow/tf-keras-datasets/imdb.npz\n",
      "17465344/17464789 [==============================] - 2s 0us/step\n"
     ]
    }
   ],
   "source": [
    "imdb = keras.datasets.imdb\n",
    "\n",
    "# num_words = 10000 keeps the top 10,000 most frequently occursing words in the training data\n",
    "(train_data, train_labels), (test_data, test_labels) = imdb.load_data(num_words=10000)"
   ]
  },
  {
   "cell_type": "markdown",
   "metadata": {},
   "source": [
    "## Explore the data"
   ]
  },
  {
   "cell_type": "code",
   "execution_count": 3,
   "metadata": {},
   "outputs": [
    {
     "name": "stdout",
     "output_type": "stream",
     "text": [
      "Training entries: 25000, labels: 25000\n"
     ]
    }
   ],
   "source": [
    "print('Training entries: {}, labels: {}'.format(len(train_data), len(train_labels)))"
   ]
  },
  {
   "cell_type": "code",
   "execution_count": 4,
   "metadata": {},
   "outputs": [
    {
     "name": "stdout",
     "output_type": "stream",
     "text": [
      "[1, 14, 22, 16, 43, 530, 973, 1622, 1385, 65, 458, 4468, 66, 3941, 4, 173, 36, 256, 5, 25, 100, 43, 838, 112, 50, 670, 2, 9, 35, 480, 284, 5, 150, 4, 172, 112, 167, 2, 336, 385, 39, 4, 172, 4536, 1111, 17, 546, 38, 13, 447, 4, 192, 50, 16, 6, 147, 2025, 19, 14, 22, 4, 1920, 4613, 469, 4, 22, 71, 87, 12, 16, 43, 530, 38, 76, 15, 13, 1247, 4, 22, 17, 515, 17, 12, 16, 626, 18, 2, 5, 62, 386, 12, 8, 316, 8, 106, 5, 4, 2223, 5244, 16, 480, 66, 3785, 33, 4, 130, 12, 16, 38, 619, 5, 25, 124, 51, 36, 135, 48, 25, 1415, 33, 6, 22, 12, 215, 28, 77, 52, 5, 14, 407, 16, 82, 2, 8, 4, 107, 117, 5952, 15, 256, 4, 2, 7, 3766, 5, 723, 36, 71, 43, 530, 476, 26, 400, 317, 46, 7, 4, 2, 1029, 13, 104, 88, 4, 381, 15, 297, 98, 32, 2071, 56, 26, 141, 6, 194, 7486, 18, 4, 226, 22, 21, 134, 476, 26, 480, 5, 144, 30, 5535, 18, 51, 36, 28, 224, 92, 25, 104, 4, 226, 65, 16, 38, 1334, 88, 12, 16, 283, 5, 16, 4472, 113, 103, 32, 15, 16, 5345, 19, 178, 32]\n"
     ]
    }
   ],
   "source": [
    "print(train_data[0])"
   ]
  },
  {
   "cell_type": "code",
   "execution_count": 5,
   "metadata": {},
   "outputs": [
    {
     "data": {
      "text/plain": [
       "(218, 189)"
      ]
     },
     "execution_count": 5,
     "metadata": {},
     "output_type": "execute_result"
    }
   ],
   "source": [
    "len(train_data[0]), len(train_data[1])"
   ]
  },
  {
   "cell_type": "markdown",
   "metadata": {},
   "source": [
    "### Convert the integer back to word"
   ]
  },
  {
   "cell_type": "markdown",
   "metadata": {},
   "source": [
    "이 Integer 값을 Word로 변환시키기 위해서 dictionary에 query 하는 helper function을 구현해 보자."
   ]
  },
  {
   "cell_type": "code",
   "execution_count": 6,
   "metadata": {},
   "outputs": [
    {
     "name": "stdout",
     "output_type": "stream",
     "text": [
      "Downloading data from https://storage.googleapis.com/tensorflow/tf-keras-datasets/imdb_word_index.json\n",
      "1646592/1641221 [==============================] - 0s 0us/step\n"
     ]
    }
   ],
   "source": [
    "word_index = imdb.get_word_index()\n",
    "\n",
    "word_index = {k: (v+3) for k,v in word_index.items()}\n",
    "word_index[\"<PAD>\"] = 0\n",
    "word_index[\"<START>\"] = 1\n",
    "word_index[\"<UNK>\"] = 2 # unknown\n",
    "word_index[\"<UNUSED>\"] = 3\n",
    "\n",
    "reverse_word_index = dict([(value, key) for (key, value) in word_index.items()])\n",
    "\n",
    "def decode_review(text):\n",
    "    return ' '.join([reverse_word_index.get(i, '?') for i in text]) "
   ]
  },
  {
   "cell_type": "code",
   "execution_count": 7,
   "metadata": {},
   "outputs": [
    {
     "data": {
      "text/plain": [
       "\"<START> this film was just brilliant casting location scenery story direction everyone's really suited the part they played and you could just imagine being there robert <UNK> is an amazing actor and now the same being director <UNK> father came from the same scottish island as myself so i loved the fact there was a real connection with this film the witty remarks throughout the film were great it was just brilliant so much that i bought the film as soon as it was released for <UNK> and would recommend it to everyone to watch and the fly fishing was amazing really cried at the end it was so sad and you know what they say if you cry at a film it must have been good and this definitely was also <UNK> to the two little boy's that played the <UNK> of norman and paul they were just brilliant children are often left out of the <UNK> list i think because the stars that play them all grown up are such a big profile for the whole film but these children are amazing and should be praised for what they have done don't you think the whole story was so lovely because it was true and was someone's life after all that was shared with us all\""
      ]
     },
     "execution_count": 7,
     "metadata": {},
     "output_type": "execute_result"
    }
   ],
   "source": [
    "decode_review(train_data[0])"
   ]
  },
  {
   "cell_type": "markdown",
   "metadata": {},
   "source": [
    "## <U>Prepare the data</U>"
   ]
  },
  {
   "cell_type": "markdown",
   "metadata": {},
   "source": [
    "Integer 배열인 이 데이터를 Neural Network에 인갛기 전에 Tensor형태로 변환해야 하고 다음과 같은 방법들이 존재한다. \n",
    "\n",
    "- One-hot-encode : Array를 0과 1의 Vector로 변환한다. 예를 들어 [3, 5] 값은 10,000 dimensional vector 에서 인덱스 3, 5 위치만 제외하고 전부 0이 된다. 이 과정은 Network 내 첫번째 Layer에서 수행된다. (Dense-Layer). 이 방법은 Memory intensive 하며, `num_words * num_reviews` 크기의 matrix가 필요하다. \n",
    "- Array를 Padding 하여 모두 같은 length를 갖도록 변환하여 `num_examples * max_length` 크기의 Integer tensor를 생성한다. \n",
    "\n",
    "이 튜토리얼에서는 두번째 방법을 사용한다.\n",
    "\n",
    "영화 리뷰는 모두 같은 길이로 만들어주기 위해서는 `pad_sequence` 함수를 사용하면 된다. "
   ]
  },
  {
   "cell_type": "code",
   "execution_count": 8,
   "metadata": {},
   "outputs": [],
   "source": [
    "train_data = keras.preprocessing.sequence.pad_sequences(train_data,\n",
    "                                                       value=word_index[\"<PAD>\"],\n",
    "                                                       padding='post',\n",
    "                                                       maxlen=256)\n",
    "\n",
    "test_data = keras.preprocessing.sequence.pad_sequences(test_data,\n",
    "                                                      value=word_index[\"<PAD>\"],\n",
    "                                                      padding='post',\n",
    "                                                      maxlen=256)"
   ]
  },
  {
   "cell_type": "code",
   "execution_count": 9,
   "metadata": {},
   "outputs": [
    {
     "data": {
      "text/plain": [
       "(256, 256)"
      ]
     },
     "execution_count": 9,
     "metadata": {},
     "output_type": "execute_result"
    }
   ],
   "source": [
    "len(train_data[0]), len(test_data[0])"
   ]
  },
  {
   "cell_type": "code",
   "execution_count": 10,
   "metadata": {},
   "outputs": [
    {
     "name": "stdout",
     "output_type": "stream",
     "text": [
      "[   1   14   22   16   43  530  973 1622 1385   65  458 4468   66 3941\n",
      "    4  173   36  256    5   25  100   43  838  112   50  670    2    9\n",
      "   35  480  284    5  150    4  172  112  167    2  336  385   39    4\n",
      "  172 4536 1111   17  546   38   13  447    4  192   50   16    6  147\n",
      " 2025   19   14   22    4 1920 4613  469    4   22   71   87   12   16\n",
      "   43  530   38   76   15   13 1247    4   22   17  515   17   12   16\n",
      "  626   18    2    5   62  386   12    8  316    8  106    5    4 2223\n",
      " 5244   16  480   66 3785   33    4  130   12   16   38  619    5   25\n",
      "  124   51   36  135   48   25 1415   33    6   22   12  215   28   77\n",
      "   52    5   14  407   16   82    2    8    4  107  117 5952   15  256\n",
      "    4    2    7 3766    5  723   36   71   43  530  476   26  400  317\n",
      "   46    7    4    2 1029   13  104   88    4  381   15  297   98   32\n",
      " 2071   56   26  141    6  194 7486   18    4  226   22   21  134  476\n",
      "   26  480    5  144   30 5535   18   51   36   28  224   92   25  104\n",
      "    4  226   65   16   38 1334   88   12   16  283    5   16 4472  113\n",
      "  103   32   15   16 5345   19  178   32    0    0    0    0    0    0\n",
      "    0    0    0    0    0    0    0    0    0    0    0    0    0    0\n",
      "    0    0    0    0    0    0    0    0    0    0    0    0    0    0\n",
      "    0    0    0    0]\n"
     ]
    }
   ],
   "source": [
    "print(train_data[0])"
   ]
  },
  {
   "cell_type": "markdown",
   "metadata": {},
   "source": [
    "## <U>Build the model</U>"
   ]
  },
  {
   "cell_type": "markdown",
   "metadata": {},
   "source": [
    "Neural Network는 layer를 쌓아서 만들어지고, 이는 2가지 주요 architecture 결정이 필요하다.\n",
    "\n",
    "- 얼마나 많은 Layer를 사용할 것인가?\n",
    "- 각 Layer에 몇개의 hidden units 를 사용할 것인가?"
   ]
  },
  {
   "cell_type": "markdown",
   "metadata": {},
   "source": [
    "이 예제에서 input data 는 word 인덱스의 배열로 구성되어 있으며, Label 은 0 또는 1로 예측하게 된다. "
   ]
  },
  {
   "cell_type": "code",
   "execution_count": 11,
   "metadata": {},
   "outputs": [
    {
     "name": "stdout",
     "output_type": "stream",
     "text": [
      "_________________________________________________________________\n",
      "Layer (type)                 Output Shape              Param #   \n",
      "=================================================================\n",
      "embedding (Embedding)        (None, None, 16)          160000    \n",
      "_________________________________________________________________\n",
      "global_average_pooling1d (Gl (None, 16)                0         \n",
      "_________________________________________________________________\n",
      "dense (Dense)                (None, 16)                272       \n",
      "_________________________________________________________________\n",
      "dense_1 (Dense)              (None, 1)                 17        \n",
      "=================================================================\n",
      "Total params: 160,289\n",
      "Trainable params: 160,289\n",
      "Non-trainable params: 0\n",
      "_________________________________________________________________\n"
     ]
    }
   ],
   "source": [
    "vocab_size = 10000\n",
    "\n",
    "model = keras.Sequential()\n",
    "model.add(keras.layers.Embedding(vocab_size, 16))\n",
    "model.add(keras.layers.GlobalAveragePooling1D())\n",
    "model.add(keras.layers.Dense(16, activation=tf.nn.relu))\n",
    "model.add(keras.layers.Dense(1, activation=tf.nn.sigmoid))\n",
    "\n",
    "model.summary()"
   ]
  },
  {
   "cell_type": "markdown",
   "metadata": {},
   "source": [
    "1. 첫번째 layer는 Embedding layer 이다. 이 layer 는 integer-encoded vocabulary를 갖고 각 word-index 에 대한 embedding vector를 찾는다. 이 벡터들은 모델이 training될 때 학습된다. 최종 출력 dimension은 (batch, sequence, embedding) 으로 구성된다."
   ]
  },
  {
   "cell_type": "markdown",
   "metadata": {},
   "source": [
    "2. `GlobalAveragePooling1D` layer는 sequence dimension을 평균을 통해서 고정된 길이의 output vector를 리턴한다. 이 방법은 모델이 다양한 길이의 입력을 가장 간단히 다룰 수 있는 방법이다. "
   ]
  },
  {
   "cell_type": "markdown",
   "metadata": {},
   "source": [
    "3. fixed-length output vector 는 16개의 hidden unit을 갖는 fully-connected layer로 연결된다."
   ]
  },
  {
   "cell_type": "markdown",
   "metadata": {},
   "source": [
    "4. 마지막 Layer 는 single output node로 densely 하게 연결된다. `sigmoid` activation function 을 사용하여, 확률 또는 confidence level로 0~1사이 값을 출력한다."
   ]
  },
  {
   "cell_type": "markdown",
   "metadata": {},
   "source": [
    "### Hidden units\n",
    "\n",
    "위의 모델은 input과 output 사이에 2개의 중간, Hidden Layer 를 갖고 있다. output (units, nodes, or neurons) 는 각 layer 의 representational space 의 dimension을 나타낸다. 이 수는 internal representation 을 학습할때 자유도의 크기를 나타낸다. \n",
    "\n",
    "만을 모델이 더 많은 hidden unit 수를 갖고, 더 많은 layers를 갖는 다면, network는 더 복잡한 표현을 학습할 수 있다. 그러나 이는 더 많은 계산적으로 더 큰 비용을 필요하며, 원하지 않은 패턴으로 학습이 될 수 있다-여기서 패턴은 training data에 대한 performance를 향상 시키지만 test data에서 대해서는 아닐 수 있다. 이를 *overfitting* 이라고 한다. "
   ]
  },
  {
   "cell_type": "markdown",
   "metadata": {},
   "source": [
    "### Loss function and optimizer "
   ]
  },
  {
   "cell_type": "markdown",
   "metadata": {},
   "source": [
    "모델은 학습을 위하여 loss function과 optimizer를 정의해야 한다. 이 예제는 binary classification이고, model의 output이 확률이기 떄문에, 여기서는 `binary_crossentropy` loss function을 사용한다.\n",
    "\n",
    "loss function 으로 `mean_squared_error` 를 사용할 수도 있다. 그러나 일반적으로 `binary_crossentropy` 가 확률에 대해선 더 나은 성능을 보인다.- 이 함수는 확률 분포간의 거리를 측정하며, 이 예제에서는 ground-truth 분포와 prediction간의 거리를 측정한다."
   ]
  },
  {
   "cell_type": "code",
   "execution_count": 19,
   "metadata": {},
   "outputs": [],
   "source": [
    "model.compile(optimizer=tf.train.AdamOptimizer(),\n",
    "              loss='binary_crossentropy',\n",
    "              metrics=['accuracy'])"
   ]
  },
  {
   "cell_type": "markdown",
   "metadata": {},
   "source": [
    "## <U>Create a validation set</U>"
   ]
  },
  {
   "cell_type": "markdown",
   "metadata": {},
   "source": [
    "학습 도중에 이전에 나타나지 않은 데이터를 사용해서 모델의 정확도를 체크할 필요가 있다. 원본 training data로 부터 10,000 개의 예제를 추출하여 validation set을 생성하자. \n",
    "\n",
    "(우리의 목표는 training data 안에서 모델을 만들고 튜닝하는 것이므로, test set은 오직 accuracy 평가에만 사용된다.)"
   ]
  },
  {
   "cell_type": "code",
   "execution_count": 20,
   "metadata": {},
   "outputs": [],
   "source": [
    "x_val = train_data[:10000]\n",
    "partial_x_train = train_data[10000:]\n",
    "\n",
    "y_val = train_labels[:10000]\n",
    "partial_y_train = train_labels[10000:]"
   ]
  },
  {
   "cell_type": "markdown",
   "metadata": {},
   "source": [
    "## <U>Train the model</U>"
   ]
  },
  {
   "cell_type": "code",
   "execution_count": 21,
   "metadata": {},
   "outputs": [
    {
     "name": "stdout",
     "output_type": "stream",
     "text": [
      "Train on 15000 samples, validate on 10000 samples\n",
      "Epoch 1/40\n",
      "15000/15000 [==============================] - 1s 55us/step - loss: 0.6924 - acc: 0.5217 - val_loss: 0.6905 - val_acc: 0.5230\n",
      "Epoch 2/40\n",
      "15000/15000 [==============================] - 1s 42us/step - loss: 0.6884 - acc: 0.5807 - val_loss: 0.6872 - val_acc: 0.6027\n",
      "Epoch 3/40\n",
      "15000/15000 [==============================] - 1s 41us/step - loss: 0.6849 - acc: 0.6081 - val_loss: 0.6837 - val_acc: 0.6328\n",
      "Epoch 4/40\n",
      "15000/15000 [==============================] - 1s 41us/step - loss: 0.6806 - acc: 0.6543 - val_loss: 0.6795 - val_acc: 0.6434\n",
      "Epoch 5/40\n",
      "15000/15000 [==============================] - 1s 41us/step - loss: 0.6751 - acc: 0.6709 - val_loss: 0.6738 - val_acc: 0.6605\n",
      "Epoch 6/40\n",
      "15000/15000 [==============================] - 1s 39us/step - loss: 0.6674 - acc: 0.7004 - val_loss: 0.6652 - val_acc: 0.6928\n",
      "Epoch 7/40\n",
      "15000/15000 [==============================] - 1s 41us/step - loss: 0.6576 - acc: 0.6990 - val_loss: 0.6566 - val_acc: 0.6396\n",
      "Epoch 8/40\n",
      "15000/15000 [==============================] - 1s 42us/step - loss: 0.6458 - acc: 0.7103 - val_loss: 0.6428 - val_acc: 0.7033\n",
      "Epoch 9/40\n",
      "15000/15000 [==============================] - 1s 40us/step - loss: 0.6295 - acc: 0.7465 - val_loss: 0.6271 - val_acc: 0.7260\n",
      "Epoch 10/40\n",
      "15000/15000 [==============================] - 1s 40us/step - loss: 0.6108 - acc: 0.7577 - val_loss: 0.6084 - val_acc: 0.7526\n",
      "Epoch 11/40\n",
      "15000/15000 [==============================] - 1s 40us/step - loss: 0.5879 - acc: 0.7753 - val_loss: 0.5858 - val_acc: 0.7669\n",
      "Epoch 12/40\n",
      "15000/15000 [==============================] - 1s 42us/step - loss: 0.5629 - acc: 0.7818 - val_loss: 0.5619 - val_acc: 0.7783\n",
      "Epoch 13/40\n",
      "15000/15000 [==============================] - 1s 41us/step - loss: 0.5354 - acc: 0.7995 - val_loss: 0.5372 - val_acc: 0.7919\n",
      "Epoch 14/40\n",
      "15000/15000 [==============================] - 1s 39us/step - loss: 0.5068 - acc: 0.8175 - val_loss: 0.5112 - val_acc: 0.8019\n",
      "Epoch 15/40\n",
      "15000/15000 [==============================] - 1s 41us/step - loss: 0.4783 - acc: 0.8275 - val_loss: 0.4859 - val_acc: 0.8149\n",
      "Epoch 16/40\n",
      "15000/15000 [==============================] - 1s 43us/step - loss: 0.4512 - acc: 0.8404 - val_loss: 0.4629 - val_acc: 0.8247\n",
      "Epoch 17/40\n",
      "15000/15000 [==============================] - 1s 41us/step - loss: 0.4250 - acc: 0.8507 - val_loss: 0.4414 - val_acc: 0.8327\n",
      "Epoch 18/40\n",
      "15000/15000 [==============================] - 1s 44us/step - loss: 0.4021 - acc: 0.8621 - val_loss: 0.4219 - val_acc: 0.8399\n",
      "Epoch 19/40\n",
      "15000/15000 [==============================] - 1s 41us/step - loss: 0.3801 - acc: 0.8683 - val_loss: 0.4042 - val_acc: 0.8465\n",
      "Epoch 20/40\n",
      "15000/15000 [==============================] - 1s 43us/step - loss: 0.3610 - acc: 0.8765 - val_loss: 0.3888 - val_acc: 0.8531\n",
      "Epoch 21/40\n",
      "15000/15000 [==============================] - 1s 42us/step - loss: 0.3446 - acc: 0.8801 - val_loss: 0.3760 - val_acc: 0.8568\n",
      "Epoch 22/40\n",
      "15000/15000 [==============================] - 1s 43us/step - loss: 0.3288 - acc: 0.8860 - val_loss: 0.3648 - val_acc: 0.8599\n",
      "Epoch 23/40\n",
      "15000/15000 [==============================] - 1s 43us/step - loss: 0.3151 - acc: 0.8902 - val_loss: 0.3549 - val_acc: 0.8638\n",
      "Epoch 24/40\n",
      "15000/15000 [==============================] - 1s 41us/step - loss: 0.3030 - acc: 0.8935 - val_loss: 0.3466 - val_acc: 0.8654\n",
      "Epoch 25/40\n",
      "15000/15000 [==============================] - 1s 41us/step - loss: 0.2915 - acc: 0.8979 - val_loss: 0.3393 - val_acc: 0.8677\n",
      "Epoch 26/40\n",
      "15000/15000 [==============================] - 1s 43us/step - loss: 0.2816 - acc: 0.9005 - val_loss: 0.3330 - val_acc: 0.8701\n",
      "Epoch 27/40\n",
      "15000/15000 [==============================] - 1s 43us/step - loss: 0.2724 - acc: 0.9049 - val_loss: 0.3272 - val_acc: 0.8712\n",
      "Epoch 28/40\n",
      "15000/15000 [==============================] - 1s 41us/step - loss: 0.2633 - acc: 0.9076 - val_loss: 0.3217 - val_acc: 0.8728\n",
      "Epoch 29/40\n",
      "15000/15000 [==============================] - 1s 41us/step - loss: 0.2552 - acc: 0.9091 - val_loss: 0.3179 - val_acc: 0.8729\n",
      "Epoch 30/40\n",
      "15000/15000 [==============================] - 1s 41us/step - loss: 0.2477 - acc: 0.9123 - val_loss: 0.3141 - val_acc: 0.8746\n",
      "Epoch 31/40\n",
      "15000/15000 [==============================] - 1s 41us/step - loss: 0.2402 - acc: 0.9159 - val_loss: 0.3096 - val_acc: 0.8766\n",
      "Epoch 32/40\n",
      "15000/15000 [==============================] - 1s 42us/step - loss: 0.2333 - acc: 0.9177 - val_loss: 0.3070 - val_acc: 0.8772\n",
      "Epoch 33/40\n",
      "15000/15000 [==============================] - 1s 42us/step - loss: 0.2267 - acc: 0.9199 - val_loss: 0.3036 - val_acc: 0.8787\n",
      "Epoch 34/40\n",
      "15000/15000 [==============================] - 1s 42us/step - loss: 0.2206 - acc: 0.9227 - val_loss: 0.3024 - val_acc: 0.8773\n",
      "Epoch 35/40\n",
      "15000/15000 [==============================] - 1s 41us/step - loss: 0.2150 - acc: 0.9242 - val_loss: 0.2993 - val_acc: 0.8796\n",
      "Epoch 36/40\n",
      "15000/15000 [==============================] - 1s 43us/step - loss: 0.2096 - acc: 0.9269 - val_loss: 0.2993 - val_acc: 0.8795\n",
      "Epoch 37/40\n",
      "15000/15000 [==============================] - 1s 41us/step - loss: 0.2038 - acc: 0.9281 - val_loss: 0.2952 - val_acc: 0.8804\n",
      "Epoch 38/40\n",
      "15000/15000 [==============================] - 1s 41us/step - loss: 0.1987 - acc: 0.9301 - val_loss: 0.2936 - val_acc: 0.8812\n",
      "Epoch 39/40\n",
      "15000/15000 [==============================] - 1s 40us/step - loss: 0.1937 - acc: 0.9329 - val_loss: 0.2922 - val_acc: 0.8825\n",
      "Epoch 40/40\n",
      "15000/15000 [==============================] - 1s 42us/step - loss: 0.1894 - acc: 0.9343 - val_loss: 0.2930 - val_acc: 0.8817\n"
     ]
    }
   ],
   "source": [
    "history = model.fit(partial_x_train, \n",
    "                   partial_y_train,\n",
    "                   epochs=40,\n",
    "                   batch_size=512,\n",
    "                   validation_data=(x_val, y_val),\n",
    "                   verbose=1)"
   ]
  },
  {
   "cell_type": "markdown",
   "metadata": {},
   "source": [
    "## <U>Evaluate the model</U>\n",
    "\n",
    "Model의 evaluate 호출 시 loss 와 accruacy를 리턴한다."
   ]
  },
  {
   "cell_type": "code",
   "execution_count": 15,
   "metadata": {},
   "outputs": [
    {
     "name": "stdout",
     "output_type": "stream",
     "text": [
      "25000/25000 [==============================] - 2s 74us/step\n",
      "[0.7001511084747315, 0.5]\n"
     ]
    }
   ],
   "source": [
    "results = model.evaluate(test_data, test_labels)\n",
    "\n",
    "print(results)"
   ]
  },
  {
   "cell_type": "markdown",
   "metadata": {},
   "source": [
    "## <U>Create a graph of accuracy and loss over time</U>\n",
    "\n",
    "`model.fit()` 은 Histroy object를 리턴하며, training 도중에 발생하는 모든 정보가 dictionary 형태로 담겨 있다."
   ]
  },
  {
   "cell_type": "code",
   "execution_count": 16,
   "metadata": {},
   "outputs": [
    {
     "data": {
      "text/plain": [
       "dict_keys(['val_loss', 'val_acc', 'loss', 'acc'])"
      ]
     },
     "execution_count": 16,
     "metadata": {},
     "output_type": "execute_result"
    }
   ],
   "source": [
    "history_dict = history.history\n",
    "\n",
    "history_dict.keys()"
   ]
  },
  {
   "cell_type": "code",
   "execution_count": 17,
   "metadata": {},
   "outputs": [
    {
     "data": {
      "image/png": "[encoded data removed]",
      "text/plain": [
       "<Figure size 432x288 with 1 Axes>"
      ]
     },
     "metadata": {},
     "output_type": "display_data"
    }
   ],
   "source": [
    "import matplotlib.pyplot as plt\n",
    "%matplotlib inline\n",
    "\n",
    "acc = history.history['acc']\n",
    "val_acc = history.history['val_acc']\n",
    "loss = history.history['loss']\n",
    "val_loss = history.history['val_loss']\n",
    "\n",
    "epochs = range(1, len(acc) + 1)\n",
    "\n",
    "# \"bo\" is for \"blue dot\"\n",
    "plt.plot(epochs, loss, 'bo', label='Training loss')\n",
    "# b is for \"solid blue line\"\n",
    "plt.plot(epochs, val_loss, 'b', label='Validation loss')\n",
    "plt.title('Training and validation loss')\n",
    "plt.xlabel('Epochs')\n",
    "plt.ylabel('Loss')\n",
    "plt.legend()\n",
    "\n",
    "plt.show()"
   ]
  },
  {
   "cell_type": "code",
   "execution_count": 18,
   "metadata": {},
   "outputs": [
    {
     "data": {
      "image/png": "[encoded data removed]",
      "text/plain": [
       "<Figure size 432x288 with 1 Axes>"
      ]
     },
     "metadata": {},
     "output_type": "display_data"
    }
   ],
   "source": [
    "plt.clf()   # clear figure\n",
    "acc_values = history_dict['acc']\n",
    "val_acc_values = history_dict['val_acc']\n",
    "\n",
    "plt.plot(epochs, acc, 'bo', label='Training acc')\n",
    "plt.plot(epochs, val_acc, 'b', label='Validation acc')\n",
    "plt.title('Training and validation accuracy')\n",
    "plt.xlabel('Epochs')\n",
    "plt.ylabel('Accuracy')\n",
    "plt.legend()\n",
    "\n",
    "plt.show()\n"
   ]
  },
  {
   "cell_type": "code",
   "execution_count": null,
   "metadata": {},
   "outputs": [],
   "source": []
  }
 ],
 "metadata": {
  "kernelspec": {
   "display_name": "Python 3",
   "language": "python",
   "name": "python3"
  },
  "language_info": {
   "codemirror_mode": {
    "name": "ipython",
    "version": 3
   },
   "file_extension": ".py",
   "mimetype": "text/x-python",
   "name": "python",
   "nbconvert_exporter": "python",
   "pygments_lexer": "ipython3",
   "version": "3.6.5"
  }
 },
 "nbformat": 4,
 "nbformat_minor": 2
}
